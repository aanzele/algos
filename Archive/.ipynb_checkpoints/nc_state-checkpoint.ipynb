{
 "cells": [
  {
   "cell_type": "code",
   "execution_count": 102,
   "id": "78038434",
   "metadata": {},
   "outputs": [],
   "source": [
    "from selenium import webdriver\n",
    "from selenium.webdriver.chrome.options import Options\n",
    "import pandas as pd\n",
    "from tqdm.auto import tqdm"
   ]
  },
  {
   "cell_type": "code",
   "execution_count": 103,
   "id": "8627c416",
   "metadata": {},
   "outputs": [],
   "source": [
    "driver = webdriver.Chrome()"
   ]
  },
  {
   "cell_type": "markdown",
   "id": "42096431",
   "metadata": {},
   "source": [
    "### Driver"
   ]
  },
  {
   "cell_type": "code",
   "execution_count": 104,
   "id": "a63985ac",
   "metadata": {
    "scrolled": false
   },
   "outputs": [
    {
     "data": {
      "application/vnd.jupyter.widget-view+json": {
       "model_id": "6cdf6717da324257bfbe303248e72baa",
       "version_major": 2,
       "version_minor": 0
      },
      "text/plain": [
       "  0%|          | 0/14 [00:00<?, ?it/s]"
      ]
     },
     "metadata": {},
     "output_type": "display_data"
    },
    {
     "name": "stdout",
     "output_type": "stream",
     "text": [
      "\n",
      "College of Agriculture and Life Sciences\n"
     ]
    },
    {
     "data": {
      "application/vnd.jupyter.widget-view+json": {
       "model_id": "e94971602d334f4e95dc81b599fe0cd7",
       "version_major": 2,
       "version_minor": 0
      },
      "text/plain": [
       "  0%|          | 0/20 [00:00<?, ?it/s]"
      ]
     },
     "metadata": {},
     "output_type": "display_data"
    },
    {
     "name": "stdout",
     "output_type": "stream",
     "text": [
      "---- Agricultural and Extension Education: success\n",
      "---- Animal Science: success\n",
      "---- Animal Science and Poultry Science: success\n",
      "---- Biochemistry: success\n",
      "---- Biological and Agricultural Engineering: success\n",
      "---- Biology: success\n",
      "---- Crop Science: success\n",
      "---- Entomology: success\n",
      "---- Food Science: success\n",
      "---- Horticultural Science: success\n",
      "---- Microbial Biotechnology: success\n",
      "---- Microbiology: success\n",
      "---- Nutrition: success\n",
      "---- Physiology: success\n",
      "---- Plant Biology: success\n",
      "---- Plant Pathology: success\n",
      "---- Poultry Science: success\n",
      "---- Soil Science: success\n",
      "---- Youth, Family, & Community Sciences: skipped\n",
      "---- Graduate Certificates - College of Agriculture and Life Sciences: skipped\n",
      "\n",
      "College of Design\n"
     ]
    },
    {
     "data": {
      "application/vnd.jupyter.widget-view+json": {
       "model_id": "3f992bec5d4d41468383d6323a034458",
       "version_major": 2,
       "version_minor": 0
      },
      "text/plain": [
       "  0%|          | 0/7 [00:00<?, ?it/s]"
      ]
     },
     "metadata": {},
     "output_type": "display_data"
    },
    {
     "name": "stdout",
     "output_type": "stream",
     "text": [
      "---- Architecture: success\n",
      "---- Art and Design: success\n",
      "---- Design: success\n",
      "---- Graphic Design: success\n",
      "---- Industrial Design: success\n",
      "---- Landscape Architecture: success\n",
      "---- Graduate Certificates - College of Design: skipped\n",
      "\n",
      "College of Education\n"
     ]
    },
    {
     "data": {
      "application/vnd.jupyter.widget-view+json": {
       "model_id": "97e15d17db214919a56f9da597daecc9",
       "version_major": 2,
       "version_minor": 0
      },
      "text/plain": [
       "  0%|          | 0/21 [00:00<?, ?it/s]"
      ]
     },
     "metadata": {},
     "output_type": "display_data"
    },
    {
     "name": "stdout",
     "output_type": "stream",
     "text": [
      "---- Adult and Community College Education: success\n",
      "---- Clinical Mental Health Counseling: success\n",
      "---- College Counseling and Student Development: success\n",
      "---- Curriculum and Instruction: success\n",
      "---- Educational Administration and Supervision: success\n",
      "---- Educational Leadership, Policy and Human Development: success\n",
      "---- Elementary Education: success\n",
      "---- Higher Education Administration: success\n",
      "---- Learning and Teaching in STEM: success\n",
      "---- Learning Design & Technology: success\n",
      "---- Mathematics Education: success\n",
      "---- School Administration: success\n",
      "---- School Counseling: success\n",
      "---- Science Education: success\n",
      "---- Science, Technology, Engineering, and Mathematics Education: success\n",
      "---- Special Education: success\n",
      "---- Teacher Education and Learning Sciences: success\n",
      "---- Teaching: success\n",
      "---- Technology Education: success\n",
      "---- Training & Development: success\n",
      "---- Graduate Certificates - College of Education: skipped\n",
      "\n",
      "College of Engineering\n"
     ]
    },
    {
     "data": {
      "application/vnd.jupyter.widget-view+json": {
       "model_id": "7aefa41f15a84851a985b018b09396b7",
       "version_major": 2,
       "version_minor": 0
      },
      "text/plain": [
       "  0%|          | 0/20 [00:00<?, ?it/s]"
      ]
     },
     "metadata": {},
     "output_type": "display_data"
    },
    {
     "name": "stdout",
     "output_type": "stream",
     "text": [
      "---- Aerospace Engineering: success\n",
      "---- Biomanufacturing: success\n",
      "---- Biomedical Engineering: success\n",
      "---- Chemical Engineering: success\n",
      "---- Civil Engineering: success\n",
      "---- Computer Engineering: success\n",
      "---- Computer Networking: success\n",
      "---- Computer Science: success\n",
      "---- Electric Power System Engineering: success\n",
      "---- Electrical Engineering: success\n",
      "---- Engineering: success\n",
      "---- Engineering Management: success\n",
      "---- Environmental Engineering: success\n",
      "---- Industrial Engineering: success\n",
      "---- Integrated Manufacturing Systems Engineering: success\n",
      "---- Materials Science & Engineering: success\n",
      "---- Mechanical Engineering: success\n",
      "---- Nanoengineering: success\n",
      "---- Nuclear Engineering: success\n",
      "---- Graduate Certificates - College of Engineering: skipped\n",
      "\n",
      "College of Humanities and Social Sciences\n"
     ]
    },
    {
     "data": {
      "application/vnd.jupyter.widget-view+json": {
       "model_id": "bb0b3cb92949419783d258f2c4d76f11",
       "version_major": 2,
       "version_minor": 0
      },
      "text/plain": [
       "  0%|          | 0/17 [00:00<?, ?it/s]"
      ]
     },
     "metadata": {},
     "output_type": "display_data"
    },
    {
     "name": "stdout",
     "output_type": "stream",
     "text": [
      "---- Anthropology: success\n",
      "---- Communications: success\n",
      "---- Communication, Rhetoric, and Digital Media: success\n",
      "---- Creative Writing: success\n",
      "---- English: success\n",
      "---- Foreign Language and Literature: success\n",
      "---- History: success\n",
      "---- International Studies: success\n",
      "---- Liberal Studies: success\n",
      "---- Philosophy & Religious Studies: success\n",
      "---- Psychology: success\n",
      "---- Public Administration: success\n",
      "---- Public History: success\n",
      "---- Social Work: success\n",
      "---- Sociology: success\n",
      "---- Technical Communication: success\n",
      "---- Graduate Certificates - College of Humanities and Social Sciences: skipped\n",
      "\n",
      "College of Natural Resources\n"
     ]
    },
    {
     "data": {
      "application/vnd.jupyter.widget-view+json": {
       "model_id": "86efa847e8904e7ba887a8b37867c592",
       "version_major": 2,
       "version_minor": 0
      },
      "text/plain": [
       "  0%|          | 0/8 [00:00<?, ?it/s]"
      ]
     },
     "metadata": {},
     "output_type": "display_data"
    },
    {
     "name": "stdout",
     "output_type": "stream",
     "text": [
      "---- Environmental Assessment: success\n",
      "---- Forest Biomaterials: success\n",
      "---- Forestry and Environmental Resources: success\n",
      "---- Geospatial Analytics: success\n",
      "---- Geospatial Information Science & Technology: success\n",
      "---- Natural Resources: success\n",
      "---- Parks, Recreation, and Tourism Management: success\n",
      "---- Graduate Certificates - College of Natural Resources: skipped\n",
      "\n",
      "College of Sciences\n"
     ]
    },
    {
     "data": {
      "application/vnd.jupyter.widget-view+json": {
       "model_id": "fd64738da16e400e85d9036e9472725b",
       "version_major": 2,
       "version_minor": 0
      },
      "text/plain": [
       "  0%|          | 0/10 [00:00<?, ?it/s]"
      ]
     },
     "metadata": {},
     "output_type": "display_data"
    },
    {
     "name": "stdout",
     "output_type": "stream",
     "text": [
      "---- Applied Mathematics: success\n",
      "---- Biomathematics: success\n",
      "---- Chemistry: success\n",
      "---- Climate Change and Society: success\n",
      "---- Marine, Earth and Atmospheric Sciences: success\n",
      "---- Mathematics: success\n",
      "---- Physics: success\n",
      "---- Statistics: success\n",
      "---- Toxicology: success\n",
      "---- Graduate Certificates - College of Sciences: skipped\n",
      "\n",
      "College of Veterinary Medicine\n"
     ]
    },
    {
     "data": {
      "application/vnd.jupyter.widget-view+json": {
       "model_id": "36711296604447aabb77a3004bb49a5c",
       "version_major": 2,
       "version_minor": 0
      },
      "text/plain": [
       "  0%|          | 0/1 [00:00<?, ?it/s]"
      ]
     },
     "metadata": {},
     "output_type": "display_data"
    },
    {
     "name": "stdout",
     "output_type": "stream",
     "text": [
      "---- Comparative Biomedical Sciences: success\n",
      "\n",
      "Institute for Advanced Analytics\n"
     ]
    },
    {
     "data": {
      "application/vnd.jupyter.widget-view+json": {
       "model_id": "d4fb9000716a4729bc9e4e0f43190cb7",
       "version_major": 2,
       "version_minor": 0
      },
      "text/plain": [
       "  0%|          | 0/1 [00:00<?, ?it/s]"
      ]
     },
     "metadata": {},
     "output_type": "display_data"
    },
    {
     "name": "stdout",
     "output_type": "stream",
     "text": [
      "---- Analytics: success\n",
      "\n",
      "Poole College of Management\n"
     ]
    },
    {
     "data": {
      "application/vnd.jupyter.widget-view+json": {
       "model_id": "6250a09308d74029a2b3aef0990731e3",
       "version_major": 2,
       "version_minor": 0
      },
      "text/plain": [
       "  0%|          | 0/5 [00:00<?, ?it/s]"
      ]
     },
     "metadata": {},
     "output_type": "display_data"
    },
    {
     "name": "stdout",
     "output_type": "stream",
     "text": [
      "---- Accounting: success\n",
      "---- Business Administration: success\n",
      "---- Economics: success\n",
      "---- Management: success\n",
      "---- Graduate Certificates - Poole College of Management: skipped\n",
      "\n",
      "Wilson College of Textiles\n"
     ]
    },
    {
     "data": {
      "application/vnd.jupyter.widget-view+json": {
       "model_id": "f3ec9a9250144f24bd225526502105b5",
       "version_major": 2,
       "version_minor": 0
      },
      "text/plain": [
       "  0%|          | 0/6 [00:00<?, ?it/s]"
      ]
     },
     "metadata": {},
     "output_type": "display_data"
    },
    {
     "name": "stdout",
     "output_type": "stream",
     "text": [
      "---- Fiber & Polymer Science: success\n",
      "---- Textile Chemistry: success\n",
      "---- Textile Engineering: success\n",
      "---- Textile Technology Management: success\n",
      "---- Textiles: success\n",
      "---- Graduate Certificates - Wilson College of Textiles: skipped\n",
      "\n",
      "Interdisciplinary\n"
     ]
    },
    {
     "data": {
      "application/vnd.jupyter.widget-view+json": {
       "model_id": "83211befec314da4b71ada6242254689",
       "version_major": 2,
       "version_minor": 0
      },
      "text/plain": [
       "  0%|          | 0/7 [00:00<?, ?it/s]"
      ]
     },
     "metadata": {},
     "output_type": "display_data"
    },
    {
     "name": "stdout",
     "output_type": "stream",
     "text": [
      "---- Bioinformatics: skipped\n",
      "---- Financial Mathematics: success\n",
      "---- Fisheries, Wildlife, and Conservation Biology: success\n",
      "---- Functional Genomics: success\n",
      "---- Genetics: success\n",
      "---- Operations Research: success\n",
      "---- Interdisciplinary Minors: skipped\n",
      "\n",
      "NC State Graduate Handbook\n"
     ]
    },
    {
     "data": {
      "application/vnd.jupyter.widget-view+json": {
       "model_id": "e6cb17587021414fb06dcdfd6789281f",
       "version_major": 2,
       "version_minor": 0
      },
      "text/plain": [
       "  0%|          | 0/41 [00:00<?, ?it/s]"
      ]
     },
     "metadata": {},
     "output_type": "display_data"
    },
    {
     "name": "stdout",
     "output_type": "stream",
     "text": [
      "---- 1.1 Graduate School Responsibilities: skipped\n",
      "---- 1.2 Graduate Student Responsibilities: skipped\n",
      "---- 1.3 Graduate Faculty: skipped\n",
      "---- 1.4 Directors of Graduate Programs: skipped\n",
      "---- 1.5 Graduate Services Coordinators: skipped\n",
      "---- 1.6 Graduate School Representatives: skipped\n",
      "---- 1.7 Administrative Board of the Graduate School: skipped\n",
      "---- 1.8 Common Administrative Board Actions: skipped\n",
      "---- 2.1 Applications: skipped\n",
      "---- 2.2 Application Deadlines: skipped\n",
      "---- 2.3 Graduate School Admissions: skipped\n",
      "---- 2.4 Admission of Non-U.S. Citizens: skipped\n",
      "---- 2.5 Medical History and Immunizations Requirements: skipped\n",
      "---- 3.1 Graduate School Minimum Requirements: skipped\n",
      "---- 3.2 Advisory Committees: skipped\n",
      "---- 3.3 Graduate Plan of Work: skipped\n",
      "---- 3.4 Time Limits: skipped\n",
      "---- 3.5 Comprehensive Examinations: skipped\n",
      "---- 3.6 Theses and Dissertations: skipped\n",
      "---- 3.7 Master's Degree: Summary of Procedures: skipped\n",
      "---- 3.8 Doctoral Degree: Summary of Requirements: skipped\n",
      "---- 3.9 Change in Degree Level or Program: skipped\n",
      "---- 3.10 Dual Master’s Degrees: skipped\n",
      "---- 3.11 Master's Degrees while in Doctoral Status: skipped\n",
      "---- 3.11a Co-Majors and Minors: skipped\n",
      "---- 3.12 Accelerated Bachelor's/Master's Program: skipped\n",
      "---- 3.13 Graduate Certificate Programs: skipped\n",
      "---- 3.14 Minimum Enrollment Requirements: skipped\n",
      "---- 3.15 Course Registration: skipped\n",
      "---- 3.16 Withdrawal from the University: skipped\n",
      "---- 3.17 Grades: skipped\n",
      "---- 3.18 Graduate Courses: skipped\n",
      "---- 3.19 Academic Difficulty: skipped\n",
      "---- 3.20 Graduation: skipped\n",
      "---- 3.21 Diplomas: skipped\n",
      "---- 3.22 University Patent Agreement and Copyright Procedures: skipped\n",
      "---- 3.23 Release of Student Information: skipped\n",
      "---- 3.24 Schedule of Required Documents: skipped\n",
      "---- 4.1 Assistantships, Fellowships, Traineeships, and Grants: skipped\n",
      "---- 4.2 RA and TA Appointments: skipped\n",
      "---- 5.1 Discipline and Grievance Procedures: skipped\n",
      "\n",
      "Graduate Catalog Archives (2003-2020)\n"
     ]
    },
    {
     "data": {
      "application/vnd.jupyter.widget-view+json": {
       "model_id": "085c0d1cbcc549018450ac395b2716aa",
       "version_major": 2,
       "version_minor": 0
      },
      "text/plain": [
       "0it [00:00, ?it/s]"
      ]
     },
     "metadata": {},
     "output_type": "display_data"
    }
   ],
   "source": [
    "df = pd.DataFrame(columns=['college', 'dept_1', 'dept_2', 'link', 'course_content'])\n",
    "driver.get('http://catalog.ncsu.edu/graduate')\n",
    "\n",
    "colleges = driver.find_element_by_class_name('self').find_elements_by_tag_name('li')\n",
    "colleges = [[i.text.split('\\n')[0], i.find_element_by_xpath(\".//a\").get_attribute('href')] for i in colleges]\n",
    "\n",
    "for i,college in enumerate(tqdm(colleges)):\n",
    "    \n",
    "    college_name = college[0]\n",
    "    college_link = college[1]\n",
    "    driver.get(college_link)\n",
    "    print('\\n'+college_name)\n",
    "\n",
    "    driver.get(college_link)\n",
    "    depts = driver.find_element_by_class_name('self').find_elements_by_tag_name('li')\n",
    "    depts = [[i.text.split('\\n')[0], i.find_element_by_xpath(\".//a\").get_attribute('href')+\"#coursestextcontainer\"] for i in depts]\n",
    "\n",
    "    for i,dept in enumerate(tqdm(depts)):\n",
    "\n",
    "        dept_name = dept[0]\n",
    "        dept_link = dept[1]\n",
    "        driver.get(dept_link)\n",
    "\n",
    "        dept_2_text = driver.find_element_by_xpath(\"//div[@id='page-title']/h1\").text\n",
    "        \n",
    "        try:\n",
    "            course_content = driver.find_element_by_id('coursestextcontainer').text\n",
    "            print(f'---- {dept_name}: success')\n",
    "        except:\n",
    "            course_content = ''\n",
    "            print(f'---- {dept_name}: skipped')\n",
    "\n",
    "        df.loc[len(df)] = [college_name, dept_name, dept_2_text, link, course_content]"
   ]
  },
  {
   "cell_type": "code",
   "execution_count": 105,
   "id": "62033678",
   "metadata": {},
   "outputs": [
    {
     "data": {
      "text/html": [
       "<div>\n",
       "<style scoped>\n",
       "    .dataframe tbody tr th:only-of-type {\n",
       "        vertical-align: middle;\n",
       "    }\n",
       "\n",
       "    .dataframe tbody tr th {\n",
       "        vertical-align: top;\n",
       "    }\n",
       "\n",
       "    .dataframe thead th {\n",
       "        text-align: right;\n",
       "    }\n",
       "</style>\n",
       "<table border=\"1\" class=\"dataframe\">\n",
       "  <thead>\n",
       "    <tr style=\"text-align: right;\">\n",
       "      <th></th>\n",
       "      <th>college</th>\n",
       "      <th>dept_1</th>\n",
       "      <th>dept_2</th>\n",
       "      <th>link</th>\n",
       "      <th>course_content</th>\n",
       "    </tr>\n",
       "  </thead>\n",
       "  <tbody>\n",
       "    <tr>\n",
       "      <th>0</th>\n",
       "      <td>College of Agriculture and Life Sciences</td>\n",
       "      <td>Agricultural and Extension Education</td>\n",
       "      <td>Agricultural and Extension Education</td>\n",
       "      <td>http://catalog.ncsu.edu/graduate/engineering/g...</td>\n",
       "      <td>Courses\\nAEE 501  Foundations Of Agricultural ...</td>\n",
       "    </tr>\n",
       "    <tr>\n",
       "      <th>1</th>\n",
       "      <td>College of Agriculture and Life Sciences</td>\n",
       "      <td>Animal Science</td>\n",
       "      <td>Animal Science</td>\n",
       "      <td>http://catalog.ncsu.edu/graduate/engineering/g...</td>\n",
       "      <td>Courses\\nANS 515/ANS 415/NTR 415/PO 415/PO 515...</td>\n",
       "    </tr>\n",
       "    <tr>\n",
       "      <th>2</th>\n",
       "      <td>College of Agriculture and Life Sciences</td>\n",
       "      <td>Animal Science and Poultry Science</td>\n",
       "      <td>Animal Science and Poultry Science</td>\n",
       "      <td>http://catalog.ncsu.edu/graduate/engineering/g...</td>\n",
       "      <td>Courses\\nANS 515/ANS 415/NTR 415/PO 415/PO 515...</td>\n",
       "    </tr>\n",
       "    <tr>\n",
       "      <th>3</th>\n",
       "      <td>College of Agriculture and Life Sciences</td>\n",
       "      <td>Biochemistry</td>\n",
       "      <td>Biochemistry</td>\n",
       "      <td>http://catalog.ncsu.edu/graduate/engineering/g...</td>\n",
       "      <td>Courses\\nBCH 552  Experimental Biochemistry  (...</td>\n",
       "    </tr>\n",
       "    <tr>\n",
       "      <th>4</th>\n",
       "      <td>College of Agriculture and Life Sciences</td>\n",
       "      <td>Biological and Agricultural Engineering</td>\n",
       "      <td>Biological and Agricultural Engineering</td>\n",
       "      <td>http://catalog.ncsu.edu/graduate/engineering/g...</td>\n",
       "      <td>Courses\\nBAE 501/BAE 401  Sensors and Controls...</td>\n",
       "    </tr>\n",
       "    <tr>\n",
       "      <th>...</th>\n",
       "      <td>...</td>\n",
       "      <td>...</td>\n",
       "      <td>...</td>\n",
       "      <td>...</td>\n",
       "      <td>...</td>\n",
       "    </tr>\n",
       "    <tr>\n",
       "      <th>159</th>\n",
       "      <td>NC State Graduate Handbook</td>\n",
       "      <td>3.23 Release of Student Information</td>\n",
       "      <td>3.23 Release of Student Information</td>\n",
       "      <td>http://catalog.ncsu.edu/graduate/engineering/g...</td>\n",
       "      <td></td>\n",
       "    </tr>\n",
       "    <tr>\n",
       "      <th>160</th>\n",
       "      <td>NC State Graduate Handbook</td>\n",
       "      <td>3.24 Schedule of Required Documents</td>\n",
       "      <td>3.24 Schedule of Required Documents</td>\n",
       "      <td>http://catalog.ncsu.edu/graduate/engineering/g...</td>\n",
       "      <td></td>\n",
       "    </tr>\n",
       "    <tr>\n",
       "      <th>161</th>\n",
       "      <td>NC State Graduate Handbook</td>\n",
       "      <td>4.1 Assistantships, Fellowships, Traineeships,...</td>\n",
       "      <td>4.1 Assistantships, Fellowships, Traineeships,...</td>\n",
       "      <td>http://catalog.ncsu.edu/graduate/engineering/g...</td>\n",
       "      <td></td>\n",
       "    </tr>\n",
       "    <tr>\n",
       "      <th>162</th>\n",
       "      <td>NC State Graduate Handbook</td>\n",
       "      <td>4.2 RA and TA Appointments</td>\n",
       "      <td>4.2 RA and TA Appointments</td>\n",
       "      <td>http://catalog.ncsu.edu/graduate/engineering/g...</td>\n",
       "      <td></td>\n",
       "    </tr>\n",
       "    <tr>\n",
       "      <th>163</th>\n",
       "      <td>NC State Graduate Handbook</td>\n",
       "      <td>5.1 Discipline and Grievance Procedures</td>\n",
       "      <td>5.1 Discipline and Grievance Procedures</td>\n",
       "      <td>http://catalog.ncsu.edu/graduate/engineering/g...</td>\n",
       "      <td></td>\n",
       "    </tr>\n",
       "  </tbody>\n",
       "</table>\n",
       "<p>164 rows × 5 columns</p>\n",
       "</div>"
      ],
      "text/plain": [
       "                                      college  \\\n",
       "0    College of Agriculture and Life Sciences   \n",
       "1    College of Agriculture and Life Sciences   \n",
       "2    College of Agriculture and Life Sciences   \n",
       "3    College of Agriculture and Life Sciences   \n",
       "4    College of Agriculture and Life Sciences   \n",
       "..                                        ...   \n",
       "159                NC State Graduate Handbook   \n",
       "160                NC State Graduate Handbook   \n",
       "161                NC State Graduate Handbook   \n",
       "162                NC State Graduate Handbook   \n",
       "163                NC State Graduate Handbook   \n",
       "\n",
       "                                                dept_1  \\\n",
       "0                 Agricultural and Extension Education   \n",
       "1                                       Animal Science   \n",
       "2                   Animal Science and Poultry Science   \n",
       "3                                         Biochemistry   \n",
       "4              Biological and Agricultural Engineering   \n",
       "..                                                 ...   \n",
       "159                3.23 Release of Student Information   \n",
       "160                3.24 Schedule of Required Documents   \n",
       "161  4.1 Assistantships, Fellowships, Traineeships,...   \n",
       "162                         4.2 RA and TA Appointments   \n",
       "163            5.1 Discipline and Grievance Procedures   \n",
       "\n",
       "                                                dept_2  \\\n",
       "0                 Agricultural and Extension Education   \n",
       "1                                       Animal Science   \n",
       "2                   Animal Science and Poultry Science   \n",
       "3                                         Biochemistry   \n",
       "4              Biological and Agricultural Engineering   \n",
       "..                                                 ...   \n",
       "159                3.23 Release of Student Information   \n",
       "160                3.24 Schedule of Required Documents   \n",
       "161  4.1 Assistantships, Fellowships, Traineeships,...   \n",
       "162                         4.2 RA and TA Appointments   \n",
       "163            5.1 Discipline and Grievance Procedures   \n",
       "\n",
       "                                                  link  \\\n",
       "0    http://catalog.ncsu.edu/graduate/engineering/g...   \n",
       "1    http://catalog.ncsu.edu/graduate/engineering/g...   \n",
       "2    http://catalog.ncsu.edu/graduate/engineering/g...   \n",
       "3    http://catalog.ncsu.edu/graduate/engineering/g...   \n",
       "4    http://catalog.ncsu.edu/graduate/engineering/g...   \n",
       "..                                                 ...   \n",
       "159  http://catalog.ncsu.edu/graduate/engineering/g...   \n",
       "160  http://catalog.ncsu.edu/graduate/engineering/g...   \n",
       "161  http://catalog.ncsu.edu/graduate/engineering/g...   \n",
       "162  http://catalog.ncsu.edu/graduate/engineering/g...   \n",
       "163  http://catalog.ncsu.edu/graduate/engineering/g...   \n",
       "\n",
       "                                        course_content  \n",
       "0    Courses\\nAEE 501  Foundations Of Agricultural ...  \n",
       "1    Courses\\nANS 515/ANS 415/NTR 415/PO 415/PO 515...  \n",
       "2    Courses\\nANS 515/ANS 415/NTR 415/PO 415/PO 515...  \n",
       "3    Courses\\nBCH 552  Experimental Biochemistry  (...  \n",
       "4    Courses\\nBAE 501/BAE 401  Sensors and Controls...  \n",
       "..                                                 ...  \n",
       "159                                                     \n",
       "160                                                     \n",
       "161                                                     \n",
       "162                                                     \n",
       "163                                                     \n",
       "\n",
       "[164 rows x 5 columns]"
      ]
     },
     "execution_count": 105,
     "metadata": {},
     "output_type": "execute_result"
    }
   ],
   "source": [
    "df"
   ]
  },
  {
   "cell_type": "code",
   "execution_count": 108,
   "id": "21e89b0f",
   "metadata": {},
   "outputs": [],
   "source": [
    "df.to_csv('nc_state1.csv', index=False)"
   ]
  },
  {
   "cell_type": "code",
   "execution_count": null,
   "id": "bcc2a18c",
   "metadata": {},
   "outputs": [],
   "source": []
  }
 ],
 "metadata": {
  "kernelspec": {
   "display_name": "Python 3 (ipykernel)",
   "language": "python",
   "name": "python3"
  },
  "language_info": {
   "codemirror_mode": {
    "name": "ipython",
    "version": 3
   },
   "file_extension": ".py",
   "mimetype": "text/x-python",
   "name": "python",
   "nbconvert_exporter": "python",
   "pygments_lexer": "ipython3",
   "version": "3.9.10"
  }
 },
 "nbformat": 4,
 "nbformat_minor": 5
}
