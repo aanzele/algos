{
 "cells": [
  {
   "cell_type": "code",
   "execution_count": 291,
   "id": "98921a0b",
   "metadata": {},
   "outputs": [],
   "source": [
    "from selenium import webdriver\n",
    "from selenium.webdriver.chrome.options import Options\n",
    "from selenium.webdriver import ActionChains\n",
    "import pandas as pd\n",
    "from tqdm.auto import tqdm\n",
    "from time import sleep\n",
    "import re"
   ]
  },
  {
   "cell_type": "markdown",
   "id": "585eded7",
   "metadata": {},
   "source": [
    "### Driver"
   ]
  },
  {
   "cell_type": "code",
   "execution_count": 260,
   "id": "df387a96",
   "metadata": {},
   "outputs": [],
   "source": [
    "driver = webdriver.Chrome()\n",
    "# df = pd.DataFrame(columns=['title', 'salary', 'desc'])\n",
    "driver.get(f'https://www.indeed.com/jobs?q=bachelors&l=North%20Carolina&start={page*10}')\n",
    "# jobs = driver.find_elements_by_xpath('//a[contains(@id, \"job_\")]')\n",
    "# curr_page = driver.find_element_by_id('searchCountPages').text"
   ]
  },
  {
   "cell_type": "code",
   "execution_count": 261,
   "id": "f5631f4b",
   "metadata": {
    "scrolled": true
   },
   "outputs": [
    {
     "name": "stdout",
     "output_type": "stream",
     "text": [
      "Page 64 of 45,203 jobs\n"
     ]
    },
    {
     "data": {
      "application/vnd.jupyter.widget-view+json": {
       "model_id": "c9e33d7559fe4220a341052247a93e39",
       "version_major": 2,
       "version_minor": 0
      },
      "text/plain": [
       "  0%|          | 0/15 [00:00<?, ?it/s]"
      ]
     },
     "metadata": {},
     "output_type": "display_data"
    },
    {
     "name": "stdout",
     "output_type": "stream",
     "text": [
      "----Contracts and Vendor Outsourcing Coordinator - Remote (contr...\n",
      "----\n",
      "----new\n",
      "Accountant I\n",
      "----new\n",
      "Better Tomorrow Network Lead Research Coordinator\n",
      "----Recruiting Administrative Chief\n",
      "----Product Development Engineer\n",
      "----new\n",
      "Project Specialist\n",
      "----Junior Programmer\n",
      "----Senior Associate, Mortgage Financial Services\n",
      "----new\n",
      "QA Specialist\n",
      "----new\n",
      "Business Information Analyst III\n",
      "----Registered Nurse - Outpatient Infusion\n",
      "----Executive Search Specialist\n",
      "----Exercise Specialist ACSM\n",
      "----Coordinator Accreditation - UNC Rex Healthcare\n",
      "Page 62 of 45,203 jobs\n"
     ]
    },
    {
     "data": {
      "application/vnd.jupyter.widget-view+json": {
       "model_id": "70e8f0daf4774c08a29b6f9b0e1b7b49",
       "version_major": 2,
       "version_minor": 0
      },
      "text/plain": [
       "  0%|          | 0/15 [00:00<?, ?it/s]"
      ]
     },
     "metadata": {},
     "output_type": "display_data"
    },
    {
     "name": "stdout",
     "output_type": "stream",
     "text": [
      "----ESD Assistant Division Director\n",
      "----Grants and Research Coordinator\n",
      "----Office Assisitant\n",
      "----Construction Management Trainee - Charlotte South Area\n",
      "----PROJECT PLANNER I\n",
      "----new\n",
      "Field Representative\n",
      "----new\n",
      "Real Property Agent I\n",
      "----HR Generalist- Plant 2\n",
      "----Cast Technician\n",
      "----new\n",
      "FAST O&M Curam Developer\n",
      "----Senior Asset Liability Associate\n",
      "----Patient Partnership Specialist\n",
      "----Remote Systems Administrator\n",
      "----Business Operations Manager - Remote\n",
      "----Business Systems Analyst\n"
     ]
    }
   ],
   "source": [
    "# page = 58\n",
    "prev_page = None\n",
    "\n",
    "while True:\n",
    "    driver.get(f'https://www.indeed.com/jobs?q=bachelors&l=North%20Carolina&start={page*10}')\n",
    "    jobs = driver.find_elements_by_xpath('//a[contains(@id, \"job_\")]')\n",
    "    curr_page = driver.find_element_by_id('searchCountPages').text\n",
    "    \n",
    "    if curr_page == prev_page:\n",
    "        break\n",
    "    \n",
    "    print(curr_page)\n",
    "    for i,_ in enumerate(tqdm(jobs)):\n",
    "        \n",
    "        jobs = driver.find_elements_by_xpath('//a[contains(@id, \"job_\")]')\n",
    "        job = jobs[i]\n",
    "        try:\n",
    "            job_name = job.get_attribute('aria-label').replace('full details of', '')\n",
    "        except:\n",
    "            try:\n",
    "                job_name = job.find_element_by_class_name('jobTitle').text.replace('new\\\\', '')\n",
    "            except:                                                                   \n",
    "                job_name = ''\n",
    "        print(f'----{job_name}')\n",
    "        \n",
    "        driver.execute_script(\"arguments[0].click();\", job)\n",
    "        sleep(2)\n",
    "        driver.switch_to.frame(driver.find_element_by_xpath(\"//iframe[@id='vjs-container-iframe']\"))\n",
    "        \n",
    "        try:\n",
    "            salary = driver.find_element_by_id('jobDetailsSection').text\n",
    "        except:\n",
    "            salary = 0\n",
    "            \n",
    "        try:\n",
    "            desc = driver.find_element_by_class_name('jobsearch-jobDescriptionText').text\n",
    "        except:\n",
    "            desc = ''\n",
    "        \n",
    "        df.loc[len(df)] = [job_name, salary, desc]\n",
    "        \n",
    "        driver.switch_to.default_content()\n",
    "    \n",
    "    page += 1\n",
    "    prev_page = curr_page"
   ]
  },
  {
   "cell_type": "code",
   "execution_count": 262,
   "id": "c42e350f",
   "metadata": {},
   "outputs": [
    {
     "name": "stdout",
     "output_type": "stream",
     "text": [
      "(767, 3) 66\n"
     ]
    }
   ],
   "source": [
    "print(df.shape, page)\n",
    "df.to_csv('indeed18.csv', index=False)\n",
    "driver.close()"
   ]
  },
  {
   "cell_type": "code",
   "execution_count": null,
   "id": "90d5c240",
   "metadata": {},
   "outputs": [],
   "source": []
  }
 ],
 "metadata": {
  "kernelspec": {
   "display_name": "Python 3 (ipykernel)",
   "language": "python",
   "name": "python3"
  },
  "language_info": {
   "codemirror_mode": {
    "name": "ipython",
    "version": 3
   },
   "file_extension": ".py",
   "mimetype": "text/x-python",
   "name": "python",
   "nbconvert_exporter": "python",
   "pygments_lexer": "ipython3",
   "version": "3.9.7"
  }
 },
 "nbformat": 4,
 "nbformat_minor": 5
}
